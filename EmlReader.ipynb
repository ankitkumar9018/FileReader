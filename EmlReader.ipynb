{
 "cells": [
  {
   "cell_type": "markdown",
   "id": "11534575",
   "metadata": {},
   "source": [
    "# EML Reader - Ankit Kumar"
   ]
  },
  {
   "cell_type": "markdown",
   "id": "d3c29147",
   "metadata": {},
   "source": [
    "### Headers"
   ]
  },
  {
   "cell_type": "code",
   "execution_count": 45,
   "id": "c8e67d59",
   "metadata": {},
   "outputs": [],
   "source": [
    "import eml_parser\n",
    "import base64"
   ]
  },
  {
   "cell_type": "markdown",
   "id": "c2b69afd",
   "metadata": {},
   "source": [
    "### Setting output directory"
   ]
  },
  {
   "cell_type": "code",
   "execution_count": 41,
   "id": "0cbd0019",
   "metadata": {},
   "outputs": [
    {
     "data": {
      "text/plain": [
       "True"
      ]
     },
     "execution_count": 41,
     "metadata": {},
     "output_type": "execute_result"
    }
   ],
   "source": [
    "od = \"output\" #output directory\n",
    "os.path.exists(od) or os.makedirs(od) #checks if the path exists or not"
   ]
  },
  {
   "cell_type": "markdown",
   "id": "2ad5eb91",
   "metadata": {},
   "source": [
    "### Reading the eml files"
   ]
  },
  {
   "cell_type": "code",
   "execution_count": 42,
   "id": "086dc728",
   "metadata": {},
   "outputs": [],
   "source": [
    "file_list = glob.glob('./data/*.eml') #reads the file in the data directory"
   ]
  },
  {
   "cell_type": "markdown",
   "id": "644dc34f",
   "metadata": {},
   "source": [
    "### Writing the attachments in Output folder"
   ]
  },
  {
   "cell_type": "code",
   "execution_count": 44,
   "id": "4d92440c",
   "metadata": {},
   "outputs": [],
   "source": [
    "for file in file_list: #iterates through the file list\n",
    "    with open(file, 'rb') as fp:\n",
    "        a=fp.read()\n",
    "        eml = eml_parser.eml_parser.decode_email_b(a,True,True)\n",
    "        if eml.get('attachment'): #checks if the attachment is present\n",
    "            for i in eml['attachment']: #iterates through attachments\n",
    "                x=base64.b64decode(i['raw'])        \n",
    "                with open(os.path.join(od, i['filename']), 'wb') as f:            \n",
    "                    f.write(x) #writes the file to output Directory"
   ]
  }
 ],
 "metadata": {
  "kernelspec": {
   "display_name": "Python 3",
   "language": "python",
   "name": "python3"
  },
  "language_info": {
   "codemirror_mode": {
    "name": "ipython",
    "version": 3
   },
   "file_extension": ".py",
   "mimetype": "text/x-python",
   "name": "python",
   "nbconvert_exporter": "python",
   "pygments_lexer": "ipython3",
   "version": "3.8.8"
  }
 },
 "nbformat": 4,
 "nbformat_minor": 5
}
